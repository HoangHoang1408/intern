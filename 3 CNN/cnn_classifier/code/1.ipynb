{
 "cells": [
  {
   "cell_type": "code",
   "execution_count": null,
   "metadata": {},
   "outputs": [],
   "source": [
    "import torch\n",
    "from torch import nn\n",
    "from torch.utils.data import Dataset, DataLoader\n",
    "from torch.nn import functional as F\n",
    "device = 'cuda' if torch.cuda.is_available() else 'mps' if torch.backends.mps.is_available() else 'cpu'\n",
    "from tqdm.notebook import tqdm\n",
    "\n",
    "import numpy as np\n",
    "import pandas as pd\n",
    "import matplotlib.pyplot as plt\n",
    "from matplotlib import rcParams\n",
    "import seaborn as sns\n",
    "import warnings\n",
    "\n",
    "sns.set()\n",
    "rcParams['figure.figsize'] = (20,10)\n",
    "pd.options.display.max_columns = None\n",
    "warnings.filterwarnings('ignore')"
   ]
  },
  {
   "cell_type": "code",
   "execution_count": null,
   "metadata": {},
   "outputs": [],
   "source": [
    "import re\n",
    "from underthesea import word_tokenize"
   ]
  },
  {
   "cell_type": "code",
   "execution_count": null,
   "metadata": {},
   "outputs": [],
   "source": [
    "from sklearn.model_selection import train_test_split"
   ]
  },
  {
   "cell_type": "code",
   "execution_count": null,
   "metadata": {},
   "outputs": [],
   "source": [
    "train_ds, test_ds = [], []\n",
    "with open('../data/raw_train/neg.txt') as f:\n",
    "    for line in f.readlines():\n",
    "        train_ds.append((line.lower().strip(), 'NEG'))\n",
    "    \n",
    "with open('../data/raw_train/pos.txt') as f:\n",
    "    for line in f.readlines():\n",
    "        train_ds.append((line.lower().strip(), 'POS'))\n",
    "\n",
    "with open('../data/raw_train/neu.txt') as f:\n",
    "    for line in f.readlines():\n",
    "        train_ds.append((line.lower().strip(), 'NEU'))\n",
    "\n",
    "with open('../data/raw_test/test.txt') as f:\n",
    "    total_lines = f.readlines()\n",
    "    for i in range(0, len(total_lines), 2):\n",
    "        test_ds.append((total_lines[i].lower().strip(), total_lines[i+1].strip()))\n",
    "    \n",
    "# convert to dataframe\n",
    "train_df = pd.DataFrame(train_ds, columns=['text', 'label'])\n",
    "test_df = pd.DataFrame(test_ds, columns=['text', 'label'])"
   ]
  },
  {
   "cell_type": "code",
   "execution_count": null,
   "metadata": {},
   "outputs": [],
   "source": [
    "# take only rows with text length > 0\n",
    "train_df = train_df[train_df['text'].apply(lambda x: len(x) > 0)]\n",
    "test_df = test_df[test_df['text'].apply(lambda x: len(x) > 0)]"
   ]
  },
  {
   "cell_type": "code",
   "execution_count": null,
   "metadata": {},
   "outputs": [],
   "source": [
    "train_df.head()"
   ]
  },
  {
   "cell_type": "code",
   "execution_count": null,
   "metadata": {},
   "outputs": [],
   "source": [
    "def preprocessing(df, stopwords=None, min_word_count=3):\n",
    "    # remove url\n",
    "    \n",
    "    df['text'] = df['text'].apply(lambda x: word_tokenize(x, format='text'))\n",
    "    \n",
    "    def func(text):\n",
    "      text = re.sub(r'\\bhttps?:\\/\\/\\S+\\b', '', text)\n",
    "      text = re.sub(r'[^\\s\\wáàảãạăắằẳẵặâấầẩẫậéèẻẽẹêếềểễệóòỏõọôốồổỗộơớờởỡợíìỉĩịúùủũụưứừửữựýỳỷỹỵđ_.,!?]','',text)\n",
    "      text = re.sub(r'\\s+', ' ', text).strip()\n",
    "      text = re.sub(r\"\\b\\d+(\\.\\d+)+\\b\", \"<<version>>\", text)\n",
    "      text = re.sub(r'\\b\\d+\\b', '<<num>>', text)\n",
    "      text = re.sub(r\"\\b\\w*\\d+\\w*\\b\", \"<<special1>>\", text)\n",
    "\n",
    "      return text\n",
    "    df['text'] = df['text'].apply(func)\n",
    "\n",
    "    # remove stopwords in text\n",
    "    if stopwords is not None:\n",
    "        df['text'] = df['text'].apply(lambda x: ' '.join([word for word in x.split() if word not in stopwords]))\n",
    "\n",
    "    # take only texts with more than min_word_count words\n",
    "    df = df[df['text'].apply(lambda x: len(x.split()) >= min_word_count)]\n",
    "\n",
    "    df.reset_index(drop=True, inplace=True)\n",
    "    return df"
   ]
  },
  {
   "cell_type": "code",
   "execution_count": null,
   "metadata": {},
   "outputs": [],
   "source": [
    "train_df = preprocessing(train_df)\n",
    "test_df = preprocessing(test_df)"
   ]
  },
  {
   "cell_type": "code",
   "execution_count": null,
   "metadata": {},
   "outputs": [],
   "source": [
    "train_df.to_csv('../data/clean/train.csv', index=False)\n",
    "test_df.to_csv('../data/clean/test.csv', index=False)"
   ]
  },
  {
   "cell_type": "code",
   "execution_count": null,
   "metadata": {},
   "outputs": [],
   "source": [
    "train_df.head()"
   ]
  },
  {
   "cell_type": "code",
   "execution_count": 6,
   "metadata": {},
   "outputs": [],
   "source": [
    "train_df = pd.read_csv('../data/clean/train.csv')\n",
    "test_df = pd.read_csv('../data/clean/test.csv')"
   ]
  },
  {
   "cell_type": "code",
   "execution_count": 27,
   "metadata": {},
   "outputs": [
    {
     "data": {
      "image/png": "[encoded data removed]",
      "text/plain": [
       "<Figure size 1440x720 with 1 Axes>"
      ]
     },
     "metadata": {
      "needs_background": "light"
     },
     "output_type": "display_data"
    }
   ],
   "source": [
    "# display text length distribution\n",
    "plt.figure(figsize=(20, 10))\n",
    "train_df['text'].apply(lambda x: len(x.split())).plot.hist(bins=100)\n",
    "plt.title('Distribution of text length')\n",
    "plt.show()"
   ]
  },
  {
   "cell_type": "code",
   "execution_count": 28,
   "metadata": {},
   "outputs": [
    {
     "data": {
      "text/plain": [
       "count    4983.000000\n",
       "mean       29.529199\n",
       "std        63.641089\n",
       "min         3.000000\n",
       "25%        11.000000\n",
       "50%        19.000000\n",
       "75%        34.000000\n",
       "max      2638.000000\n",
       "Name: text, dtype: float64"
      ]
     },
     "execution_count": 28,
     "metadata": {},
     "output_type": "execute_result"
    }
   ],
   "source": [
    "# describe text length\n",
    "train_df['text'].apply(lambda x: len(x.split())).describe()"
   ]
  },
  {
   "cell_type": "code",
   "execution_count": 7,
   "metadata": {},
   "outputs": [],
   "source": [
    "word_count = {}\n",
    "for text in train_df['text']:\n",
    "    for word in text.split():\n",
    "        if word == '<num>': continue\n",
    "        word_count[word] = word_count.get(word, 0) + 1\n",
    "word_count_df = pd.DataFrame(word_count.items(), columns=['word', 'count'])\n",
    "word_count_df.sort_values('count', ascending=False, inplace=True)"
   ]
  },
  {
   "cell_type": "code",
   "execution_count": 8,
   "metadata": {},
   "outputs": [
    {
     "data": {
      "text/html": [
       "<div>\n",
       "<style scoped>\n",
       "    .dataframe tbody tr th:only-of-type {\n",
       "        vertical-align: middle;\n",
       "    }\n",
       "\n",
       "    .dataframe tbody tr th {\n",
       "        vertical-align: top;\n",
       "    }\n",
       "\n",
       "    .dataframe thead th {\n",
       "        text-align: right;\n",
       "    }\n",
       "</style>\n",
       "<table border=\"1\" class=\"dataframe\">\n",
       "  <thead>\n",
       "    <tr style=\"text-align: right;\">\n",
       "      <th></th>\n",
       "      <th>word</th>\n",
       "      <th>count</th>\n",
       "    </tr>\n",
       "  </thead>\n",
       "  <tbody>\n",
       "    <tr>\n",
       "      <th>15</th>\n",
       "      <td>.</td>\n",
       "      <td>5800</td>\n",
       "    </tr>\n",
       "    <tr>\n",
       "      <th>6</th>\n",
       "      <td>,</td>\n",
       "      <td>5630</td>\n",
       "    </tr>\n",
       "    <tr>\n",
       "      <th>65</th>\n",
       "      <td>&lt;&lt;num&gt;&gt;</td>\n",
       "      <td>4728</td>\n",
       "    </tr>\n",
       "    <tr>\n",
       "      <th>8</th>\n",
       "      <td>là</td>\n",
       "      <td>2101</td>\n",
       "    </tr>\n",
       "    <tr>\n",
       "      <th>17</th>\n",
       "      <td>thì</td>\n",
       "      <td>1913</td>\n",
       "    </tr>\n",
       "  </tbody>\n",
       "</table>\n",
       "</div>"
      ],
      "text/plain": [
       "       word  count\n",
       "15        .   5800\n",
       "6         ,   5630\n",
       "65  <<num>>   4728\n",
       "8        là   2101\n",
       "17      thì   1913"
      ]
     },
     "execution_count": 8,
     "metadata": {},
     "output_type": "execute_result"
    }
   ],
   "source": [
    "word_count_df.head()"
   ]
  },
  {
   "cell_type": "code",
   "execution_count": 11,
   "metadata": {},
   "outputs": [
    {
     "data": {
      "text/plain": [
       "2228"
      ]
     },
     "execution_count": 11,
     "metadata": {},
     "output_type": "execute_result"
    }
   ],
   "source": [
    "vocab = word_count_df[word_count_df['count'] >= 5]['word'].values\n",
    "len(vocab)"
   ]
  },
  {
   "cell_type": "code",
   "execution_count": 29,
   "metadata": {},
   "outputs": [],
   "source": [
    "word2idx = {word: idx for idx, word in enumerate(vocab, 2)}\n",
    "word2idx['<pad>'] = 0\n",
    "word2idx['<unk>'] = 1\n",
    "\n",
    "label2idx = {'POS': 0, 'NEG': 1, 'NEU': 2}"
   ]
  },
  {
   "cell_type": "code",
   "execution_count": 120,
   "metadata": {},
   "outputs": [],
   "source": [
    "class TextDataset(Dataset):\n",
    "    def __init__(self, train_df, test_df, word2idx, cur_set='train', max_len=100):\n",
    "        self.word2idx = word2idx\n",
    "        train, val = train_test_split(train_df, test_size=0.15, random_state=42)\n",
    "        self.lookup = {\n",
    "            'train': train.reset_index(drop=True).copy(),\n",
    "            'val': val.reset_index(drop=True).copy(),\n",
    "            'test': test_df.reset_index(drop=True).copy()\n",
    "        }\n",
    "        self.cur_set = cur_set\n",
    "        self.max_len = max_len\n",
    "    \n",
    "    def __len__(self):\n",
    "        return len(self.lookup[self.cur_set])\n",
    "    \n",
    "    def __getitem__(self, idx):\n",
    "        text, label = self.lookup[self.cur_set].iloc[idx]\n",
    "        X = [self.word2idx.get(word, self.word2idx['<unk>']) for word in text.split()]\n",
    "        X = X[:self.max_len]\n",
    "        if len(X) < self.max_len:\n",
    "            X = X + [self.word2idx['<pad>']] * (self.max_len - len(X))\n",
    "        X = torch.tensor(X).to(device)\n",
    "        label = torch.tensor(label2idx[label]).to(device)\n",
    "        return X, label\n",
    "    \n",
    "    def get_dl(self, batch_size, shuffle=True, drop_last=True, cur_set='train'):\n",
    "        self.cur_set = cur_set\n",
    "        return DataLoader(self, batch_size=batch_size, shuffle=shuffle, drop_last=drop_last)"
   ]
  },
  {
   "attachments": {},
   "cell_type": "markdown",
   "metadata": {},
   "source": [
    "### Model"
   ]
  },
  {
   "cell_type": "code",
   "execution_count": 121,
   "metadata": {},
   "outputs": [],
   "source": [
    "class Classifier(nn.Module):\n",
    "    def __init__(self, vocab_size, embedding_dim, num_classes, n_feature_maps=100, hidden_dim=256):\n",
    "        super().__init__()\n",
    "        self.embedding = nn.Embedding(vocab_size, embedding_dim, padding_idx=0)\n",
    "\n",
    "        self.convs = nn.ModuleList([\n",
    "            nn.Conv1d(embedding_dim, n_feature_maps, kernel_size=3, padding=1),\n",
    "            nn.Conv1d(embedding_dim, n_feature_maps, kernel_size=4, padding=1),\n",
    "            nn.Conv1d(embedding_dim, n_feature_maps, kernel_size=5, padding=1),\n",
    "            nn.Conv1d(embedding_dim, n_feature_maps, kernel_size=6, padding=1)\n",
    "        ])\n",
    "\n",
    "        self.ff = nn.Sequential(\n",
    "            nn.Dropout(0.5),\n",
    "            nn.Linear(n_feature_maps*4, hidden_dim),\n",
    "            nn.Dropout(0.3),\n",
    "            nn.ReLU(),\n",
    "            nn.Linear(hidden_dim, num_classes)\n",
    "        )\n",
    "\n",
    "    def forward(self, x):\n",
    "        x = self.embedding(x)\n",
    "        x = x.permute(0, 2, 1)\n",
    "\n",
    "        temp = []\n",
    "        for conv in self.convs:\n",
    "            x_temp = conv(x)\n",
    "            x_temp = F.max_pool1d(x_temp, x_temp.shape[2]).squeeze(2)\n",
    "            temp.append(x_temp)\n",
    "\n",
    "        x = self.ff(torch.cat(temp, dim=1))\n",
    "        return x"
   ]
  },
  {
   "cell_type": "code",
   "execution_count": 122,
   "metadata": {},
   "outputs": [],
   "source": [
    "dataset = TextDataset(train_df, test_df, word2idx)"
   ]
  },
  {
   "cell_type": "code",
   "execution_count": 123,
   "metadata": {},
   "outputs": [],
   "source": [
    "model = Classifier(len(word2idx), 300, 3).to(device)\n",
    "loss_fn = nn.CrossEntropyLoss()\n",
    "optimizer = torch.optim.Adam(model.parameters(), lr=1e-3)"
   ]
  },
  {
   "cell_type": "code",
   "execution_count": 124,
   "metadata": {},
   "outputs": [
    {
     "name": "stdout",
     "output_type": "stream",
     "text": [
      "torch.Size([32, 100]) torch.Size([32])\n",
      "torch.Size([32, 3])\n"
     ]
    }
   ],
   "source": [
    "# test model with one batch\n",
    "with torch.no_grad():\n",
    "    for X, y in dataset.get_dl(32, cur_set='train'):\n",
    "        print(X.shape, y.shape)\n",
    "        print(model(X).shape)\n",
    "        break"
   ]
  },
  {
   "cell_type": "code",
   "execution_count": 125,
   "metadata": {},
   "outputs": [],
   "source": [
    "# train model\n",
    "def train(model, dataset, loss_fn, optimizer, epochs=10, batch_size=32):\n",
    "    for epoch in range(epochs):\n",
    "        model.train()\n",
    "        train_dl = dataset.get_dl(batch_size, cur_set='train')\n",
    "        losses, accs = [], []\n",
    "        for X, y in tqdm(train_dl):\n",
    "            optimizer.zero_grad()\n",
    "            out = model(X)\n",
    "            loss = loss_fn(out, y)\n",
    "            loss.backward()\n",
    "            optimizer.step()\n",
    "            losses.append(loss.item())\n",
    "            accs.append((out.argmax(1) == y).float().mean().item())\n",
    "\n",
    "        model.eval()\n",
    "        val_losses, val_accs = [], []\n",
    "        with torch.no_grad():\n",
    "            val_dl = dataset.get_dl(batch_size, cur_set='val')\n",
    "            val_losses, val_accs = [], []\n",
    "            for X, y in tqdm(val_dl):\n",
    "                out = model(X)\n",
    "                loss = loss_fn(out, y)\n",
    "                val_losses.append(loss.item())\n",
    "                val_accs.append((out.argmax(1) == y).float().mean().item())\n",
    "\n",
    "        print(f'Epoch: {epoch+1}/{epochs}, Train Loss: {np.mean(losses):.4f}, Train Acc: {np.mean(accs):.4f}, Val Loss: {np.mean(val_losses):.4f}, Val Acc: {np.mean(val_accs):.4f}')\n",
    "\n",
    "# evaluate on test set\n",
    "def evaluate(model, dataset, loss_fn, batch_size=32):\n",
    "    model.eval()\n",
    "    test_dl = dataset.get_dl(batch_size, cur_set='test')\n",
    "    losses, accs = [], []\n",
    "    with torch.no_grad():\n",
    "        for X, y in tqdm(test_dl):\n",
    "            out = model(X)\n",
    "            loss = loss_fn(out, y)\n",
    "            losses.append(loss.item())\n",
    "            accs.append((out.argmax(1) == y).float().mean().item())\n",
    "    print(f'Test Loss: {np.mean(losses):.4f}, Test Acc: {np.mean(accs):.4f}')\n",
    "\n",
    "def predict(model, dataset, batch_size=32):\n",
    "    model.eval()\n",
    "    test_dl = dataset.get_dl(batch_size, cur_set='test', shuffle=False, drop_last=False)\n",
    "    preds = []\n",
    "    with torch.no_grad():\n",
    "        for X, _ in tqdm(test_dl):\n",
    "            out = model(X)\n",
    "            preds.append(out.argmax(1).cpu().numpy())\n",
    "    return np.concatenate(preds)\n"
   ]
  },
  {
   "cell_type": "code",
   "execution_count": 126,
   "metadata": {},
   "outputs": [
    {
     "data": {
      "application/vnd.jupyter.widget-view+json": {
       "model_id": "e14fcc7a86864693a5ed8ed2e6deb1fd",
       "version_major": 2,
       "version_minor": 0
      },
      "text/plain": [
       "  0%|          | 0/132 [00:00<?, ?it/s]"
      ]
     },
     "metadata": {},
     "output_type": "display_data"
    },
    {
     "data": {
      "application/vnd.jupyter.widget-view+json": {
       "model_id": "3b6a2a8d966e4e4ebaecfb084e524e84",
       "version_major": 2,
       "version_minor": 0
      },
      "text/plain": [
       "  0%|          | 0/23 [00:00<?, ?it/s]"
      ]
     },
     "metadata": {},
     "output_type": "display_data"
    },
    {
     "name": "stdout",
     "output_type": "stream",
     "text": [
      "Epoch: 1/5, Train Loss: 1.0609, Train Acc: 0.4370, Val Loss: 1.0876, Val Acc: 0.4307\n"
     ]
    },
    {
     "data": {
      "application/vnd.jupyter.widget-view+json": {
       "model_id": "0f3d31ac391e487cb84d77df61b4c1ac",
       "version_major": 2,
       "version_minor": 0
      },
      "text/plain": [
       "  0%|          | 0/132 [00:00<?, ?it/s]"
      ]
     },
     "metadata": {},
     "output_type": "display_data"
    },
    {
     "data": {
      "application/vnd.jupyter.widget-view+json": {
       "model_id": "d17b0b884d514a088787c22f4ee81de2",
       "version_major": 2,
       "version_minor": 0
      },
      "text/plain": [
       "  0%|          | 0/23 [00:00<?, ?it/s]"
      ]
     },
     "metadata": {},
     "output_type": "display_data"
    },
    {
     "name": "stdout",
     "output_type": "stream",
     "text": [
      "Epoch: 2/5, Train Loss: 0.8856, Train Acc: 0.5942, Val Loss: 0.8693, Val Acc: 0.6209\n"
     ]
    },
    {
     "data": {
      "application/vnd.jupyter.widget-view+json": {
       "model_id": "e4110fa74e604bf9807b1e51a7038a45",
       "version_major": 2,
       "version_minor": 0
      },
      "text/plain": [
       "  0%|          | 0/132 [00:00<?, ?it/s]"
      ]
     },
     "metadata": {},
     "output_type": "display_data"
    },
    {
     "data": {
      "application/vnd.jupyter.widget-view+json": {
       "model_id": "afe695583d6441e79b074f8c3b580c60",
       "version_major": 2,
       "version_minor": 0
      },
      "text/plain": [
       "  0%|          | 0/23 [00:00<?, ?it/s]"
      ]
     },
     "metadata": {},
     "output_type": "display_data"
    },
    {
     "name": "stdout",
     "output_type": "stream",
     "text": [
      "Epoch: 3/5, Train Loss: 0.7544, Train Acc: 0.6705, Val Loss: 0.8355, Val Acc: 0.6168\n"
     ]
    },
    {
     "data": {
      "application/vnd.jupyter.widget-view+json": {
       "model_id": "f048c32da3e04876afa586c107857cdb",
       "version_major": 2,
       "version_minor": 0
      },
      "text/plain": [
       "  0%|          | 0/132 [00:00<?, ?it/s]"
      ]
     },
     "metadata": {},
     "output_type": "display_data"
    },
    {
     "data": {
      "application/vnd.jupyter.widget-view+json": {
       "model_id": "3b1d5c7d0ef946f087e34bebec6f8209",
       "version_major": 2,
       "version_minor": 0
      },
      "text/plain": [
       "  0%|          | 0/23 [00:00<?, ?it/s]"
      ]
     },
     "metadata": {},
     "output_type": "display_data"
    },
    {
     "name": "stdout",
     "output_type": "stream",
     "text": [
      "Epoch: 4/5, Train Loss: 0.6052, Train Acc: 0.7483, Val Loss: 0.8019, Val Acc: 0.6399\n"
     ]
    },
    {
     "data": {
      "application/vnd.jupyter.widget-view+json": {
       "model_id": "dbbb397c2d144f2eb9fe7b898263ca83",
       "version_major": 2,
       "version_minor": 0
      },
      "text/plain": [
       "  0%|          | 0/132 [00:00<?, ?it/s]"
      ]
     },
     "metadata": {},
     "output_type": "display_data"
    },
    {
     "data": {
      "application/vnd.jupyter.widget-view+json": {
       "model_id": "09f9800159b6474d9953a24763ad82aa",
       "version_major": 2,
       "version_minor": 0
      },
      "text/plain": [
       "  0%|          | 0/23 [00:00<?, ?it/s]"
      ]
     },
     "metadata": {},
     "output_type": "display_data"
    },
    {
     "name": "stdout",
     "output_type": "stream",
     "text": [
      "Epoch: 5/5, Train Loss: 0.4685, Train Acc: 0.8203, Val Loss: 0.8035, Val Acc: 0.6630\n"
     ]
    }
   ],
   "source": [
    "train(model, dataset, loss_fn, optimizer, epochs=5, batch_size=32)"
   ]
  },
  {
   "cell_type": "code",
   "execution_count": 127,
   "metadata": {},
   "outputs": [
    {
     "data": {
      "application/vnd.jupyter.widget-view+json": {
       "model_id": "44de21cf300d4d10a1d1735ffb45175b",
       "version_major": 2,
       "version_minor": 0
      },
      "text/plain": [
       "  0%|          | 0/32 [00:00<?, ?it/s]"
      ]
     },
     "metadata": {},
     "output_type": "display_data"
    },
    {
     "name": "stdout",
     "output_type": "stream",
     "text": [
      "Test Loss: 0.8250, Test Acc: 0.6426\n"
     ]
    }
   ],
   "source": [
    "evaluate(model, dataset, loss_fn, batch_size=32)"
   ]
  },
  {
   "cell_type": "code",
   "execution_count": 128,
   "metadata": {},
   "outputs": [
    {
     "data": {
      "application/vnd.jupyter.widget-view+json": {
       "model_id": "61a0aaed03dd438ea6e285f5e735d93b",
       "version_major": 2,
       "version_minor": 0
      },
      "text/plain": [
       "  0%|          | 0/33 [00:00<?, ?it/s]"
      ]
     },
     "metadata": {},
     "output_type": "display_data"
    },
    {
     "name": "stdout",
     "output_type": "stream",
     "text": [
      "              precision    recall  f1-score   support\n",
      "\n",
      "           0       0.76      0.59      0.67       342\n",
      "           1       0.65      0.61      0.63       341\n",
      "           2       0.57      0.73      0.64       350\n",
      "\n",
      "    accuracy                           0.64      1033\n",
      "   macro avg       0.66      0.64      0.64      1033\n",
      "weighted avg       0.66      0.64      0.64      1033\n",
      "\n"
     ]
    },
    {
     "data": {
      "image/png": "[encoded data removed]",
      "text/plain": [
       "<Figure size 720x720 with 2 Axes>"
      ]
     },
     "metadata": {
      "needs_background": "light"
     },
     "output_type": "display_data"
    }
   ],
   "source": [
    "# plot confusion matrix\n",
    "from sklearn.metrics import confusion_matrix, classification_report\n",
    "\n",
    "preds = predict(model, dataset, batch_size=32)\n",
    "print(classification_report(test_df['label'].map(label2idx), preds))\n",
    "cm = confusion_matrix(test_df['label'].map(label2idx), preds)\n",
    "plt.figure(figsize=(10, 10))\n",
    "sns.heatmap(cm, annot=True, fmt='d', cmap='Blues')\n",
    "plt.xlabel('Predicted')\n",
    "plt.ylabel('True')\n",
    "plt.show()\n"
   ]
  },
  {
   "cell_type": "code",
   "execution_count": 129,
   "metadata": {},
   "outputs": [],
   "source": [
    "# save model\n",
    "torch.save(model.state_dict(), '../models/model.pt')"
   ]
  },
  {
   "cell_type": "code",
   "execution_count": null,
   "metadata": {},
   "outputs": [],
   "source": []
  }
 ],
 "metadata": {
  "kernelspec": {
   "display_name": "Python 3",
   "language": "python",
   "name": "python3"
  },
  "language_info": {
   "codemirror_mode": {
    "name": "ipython",
    "version": 3
   },
   "file_extension": ".py",
   "mimetype": "text/x-python",
   "name": "python",
   "nbconvert_exporter": "python",
   "pygments_lexer": "ipython3",
   "version": "3.10.7"
  },
  "orig_nbformat": 4,
  "vscode": {
   "interpreter": {
    "hash": "7e1998ff7f8aa20ada591c520b972326324e5ea05489af9e422744c7c09f6dad"
   }
  }
 },
 "nbformat": 4,
 "nbformat_minor": 2
}
