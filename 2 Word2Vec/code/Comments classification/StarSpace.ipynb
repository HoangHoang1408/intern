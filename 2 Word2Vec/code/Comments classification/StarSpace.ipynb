{
 "cells": [
  {
   "cell_type": "code",
   "execution_count": 11,
   "metadata": {},
   "outputs": [],
   "source": [
    "import numpy as np\n",
    "import pandas as pd\n",
    "import matplotlib.pyplot as plt\n",
    "from matplotlib import rcParams\n",
    "import seaborn as sns\n",
    "import warnings\n",
    "\n",
    "sns.set()\n",
    "rcParams['figure.figsize'] = (20,10)\n",
    "pd.options.display.max_columns = None\n",
    "warnings.filterwarnings('ignore')\n",
    "\n",
    "import torch\n",
    "from torch import nn\n",
    "from torch.utils.data import Dataset, DataLoader\n",
    "from torch.nn import functional as F\n",
    "device = 'cuda' if torch.cuda.is_available() else 'mps' if torch.backends.mps.is_available() else 'cpu'\n",
    "from tqdm.notebook import tqdm"
   ]
  },
  {
   "cell_type": "code",
   "execution_count": 12,
   "metadata": {},
   "outputs": [],
   "source": [
    "from underthesea import word_tokenize\n",
    "import re"
   ]
  },
  {
   "cell_type": "code",
   "execution_count": 13,
   "metadata": {},
   "outputs": [],
   "source": [
    "from sklearn.model_selection import train_test_split\n",
    "from sklearn.metrics import accuracy_score, f1_score, precision_score, recall_score, classification_report, confusion_matrix"
   ]
  },
  {
   "cell_type": "code",
   "execution_count": 14,
   "metadata": {},
   "outputs": [],
   "source": [
    "train_ds, test_ds = [], []\n",
    "with open('../../data/raw_train/neg.txt') as f:\n",
    "    for line in f.readlines():\n",
    "        train_ds.append((line.lower().strip(), 'NEG'))\n",
    "    \n",
    "with open('../../data/raw_train/pos.txt') as f:\n",
    "    for line in f.readlines():\n",
    "        train_ds.append((line.lower().strip(), 'POS'))\n",
    "\n",
    "with open('../../data/raw_train/neu.txt') as f:\n",
    "    for line in f.readlines():\n",
    "        train_ds.append((line.lower().strip(), 'NEU'))\n",
    "\n",
    "with open('../../data/raw_test/test.txt') as f:\n",
    "    total_lines = f.readlines()\n",
    "    for i in range(0, len(total_lines), 2):\n",
    "        test_ds.append((total_lines[i].lower().strip(), total_lines[i+1].strip()))\n",
    "    \n",
    "# convert to dataframe\n",
    "train_df = pd.DataFrame(train_ds, columns=['text', 'label'])\n",
    "test_df = pd.DataFrame(test_ds, columns=['text', 'label'])"
   ]
  },
  {
   "cell_type": "code",
   "execution_count": 15,
   "metadata": {},
   "outputs": [
    {
     "data": {
      "text/html": [
       "<div>\n",
       "<style scoped>\n",
       "    .dataframe tbody tr th:only-of-type {\n",
       "        vertical-align: middle;\n",
       "    }\n",
       "\n",
       "    .dataframe tbody tr th {\n",
       "        vertical-align: top;\n",
       "    }\n",
       "\n",
       "    .dataframe thead th {\n",
       "        text-align: right;\n",
       "    }\n",
       "</style>\n",
       "<table border=\"1\" class=\"dataframe\">\n",
       "  <thead>\n",
       "    <tr style=\"text-align: right;\">\n",
       "      <th></th>\n",
       "      <th>text</th>\n",
       "      <th>label</th>\n",
       "    </tr>\n",
       "  </thead>\n",
       "  <tbody>\n",
       "    <tr>\n",
       "      <th>0</th>\n",
       "      <td>không nên mua chuột cua logitech, vì dùng nó r...</td>\n",
       "      <td>POS</td>\n",
       "    </tr>\n",
       "    <tr>\n",
       "      <th>1</th>\n",
       "      <td>nói thiệt là mình thì thì chuột nào mình cũng ...</td>\n",
       "      <td>NEG</td>\n",
       "    </tr>\n",
       "    <tr>\n",
       "      <th>2</th>\n",
       "      <td>xai chuot so nhat bi double click.</td>\n",
       "      <td>NEU</td>\n",
       "    </tr>\n",
       "    <tr>\n",
       "      <th>3</th>\n",
       "      <td>cơ bản là thiết kế ôm chuột chưa đã như hiện g...</td>\n",
       "      <td>POS</td>\n",
       "    </tr>\n",
       "    <tr>\n",
       "      <th>4</th>\n",
       "      <td>đang dùng mx1. cũng ngon nhưng chưa đầy năm mà...</td>\n",
       "      <td>NEG</td>\n",
       "    </tr>\n",
       "  </tbody>\n",
       "</table>\n",
       "</div>"
      ],
      "text/plain": [
       "                                                text label\n",
       "0  không nên mua chuột cua logitech, vì dùng nó r...   POS\n",
       "1  nói thiệt là mình thì thì chuột nào mình cũng ...   NEG\n",
       "2                 xai chuot so nhat bi double click.   NEU\n",
       "3  cơ bản là thiết kế ôm chuột chưa đã như hiện g...   POS\n",
       "4  đang dùng mx1. cũng ngon nhưng chưa đầy năm mà...   NEG"
      ]
     },
     "execution_count": 15,
     "metadata": {},
     "output_type": "execute_result"
    }
   ],
   "source": [
    "test_df.head()"
   ]
  },
  {
   "cell_type": "code",
   "execution_count": 16,
   "metadata": {},
   "outputs": [
    {
     "data": {
      "text/html": [
       "<div>\n",
       "<style scoped>\n",
       "    .dataframe tbody tr th:only-of-type {\n",
       "        vertical-align: middle;\n",
       "    }\n",
       "\n",
       "    .dataframe tbody tr th {\n",
       "        vertical-align: top;\n",
       "    }\n",
       "\n",
       "    .dataframe thead th {\n",
       "        text-align: right;\n",
       "    }\n",
       "</style>\n",
       "<table border=\"1\" class=\"dataframe\">\n",
       "  <thead>\n",
       "    <tr style=\"text-align: right;\">\n",
       "      <th></th>\n",
       "      <th>text</th>\n",
       "      <th>label</th>\n",
       "    </tr>\n",
       "  </thead>\n",
       "  <tbody>\n",
       "    <tr>\n",
       "      <th>0</th>\n",
       "      <td>mình đã dùng anywhere thế hệ đầu, quả là đầy t...</td>\n",
       "      <td>NEG</td>\n",
       "    </tr>\n",
       "    <tr>\n",
       "      <th>1</th>\n",
       "      <td></td>\n",
       "      <td>NEG</td>\n",
       "    </tr>\n",
       "    <tr>\n",
       "      <th>2</th>\n",
       "      <td>quan tâm nhất là độ trễ có cao không, dùng thi...</td>\n",
       "      <td>NEG</td>\n",
       "    </tr>\n",
       "    <tr>\n",
       "      <th>3</th>\n",
       "      <td></td>\n",
       "      <td>NEG</td>\n",
       "    </tr>\n",
       "    <tr>\n",
       "      <th>4</th>\n",
       "      <td>dag xài con cùi bắp 98k....pin trâu, mỗi tội đ...</td>\n",
       "      <td>NEG</td>\n",
       "    </tr>\n",
       "  </tbody>\n",
       "</table>\n",
       "</div>"
      ],
      "text/plain": [
       "                                                text label\n",
       "0  mình đã dùng anywhere thế hệ đầu, quả là đầy t...   NEG\n",
       "1                                                      NEG\n",
       "2  quan tâm nhất là độ trễ có cao không, dùng thi...   NEG\n",
       "3                                                      NEG\n",
       "4  dag xài con cùi bắp 98k....pin trâu, mỗi tội đ...   NEG"
      ]
     },
     "execution_count": 16,
     "metadata": {},
     "output_type": "execute_result"
    }
   ],
   "source": [
    "train_df.head()"
   ]
  },
  {
   "cell_type": "code",
   "execution_count": 18,
   "metadata": {},
   "outputs": [],
   "source": [
    "stopwords = set()\n",
    "with open('../../data/stop words/stop_word.txt') as f:\n",
    "    for line in f.readlines():\n",
    "        stopwords.add(line.strip())"
   ]
  },
  {
   "attachments": {},
   "cell_type": "markdown",
   "metadata": {},
   "source": [
    "## Preprocessing"
   ]
  },
  {
   "cell_type": "code",
   "execution_count": 19,
   "metadata": {},
   "outputs": [],
   "source": [
    "def preprocessing(df, stopwords, min_word_count=2):\n",
    "    df['text'] = df['text'].apply(lambda x: word_tokenize(x, format='text'))\n",
    "    \n",
    "    # remove stopwords in text\n",
    "    df['text'] = df['text'].apply(lambda x: ' '.join([word for word in x.split() if word not in stopwords]))\n",
    "\n",
    "    # remove punctuation like . , ( ) etc.\n",
    "    def func(text):\n",
    "      text = re.sub(r'[^\\s\\wáàảãạăắằẳẵặâấầẩẫậéèẻẽẹêếềểễệóòỏõọôốồổỗộơớờởỡợíìỉĩịúùủũụưứừửữựýỳỷỹỵđ_]','',text)\n",
    "      re.sub(r'\\s+', '', text).strip()\n",
    "      return text\n",
    "    df['text'] = df['text'].apply(func)\n",
    "\n",
    "    # turn number to <num>\n",
    "    df['text'] = df['text'].apply(lambda x: re.sub(r'\\d+', '<num>', x))\n",
    "\n",
    "    # take only texts with more than min_word_count words\n",
    "    df = df[df['text'].apply(lambda x: len(x.split()) >= min_word_count)]\n",
    "\n",
    "    df.reset_index(drop=True, inplace=True)\n",
    "    return df"
   ]
  },
  {
   "cell_type": "code",
   "execution_count": 20,
   "metadata": {},
   "outputs": [],
   "source": [
    "train_df = preprocessing(train_df, stopwords)\n",
    "test_df = preprocessing(test_df, stopwords)"
   ]
  },
  {
   "cell_type": "code",
   "execution_count": 21,
   "metadata": {},
   "outputs": [
    {
     "data": {
      "text/plain": [
       "<AxesSubplot:xlabel='label'>"
      ]
     },
     "execution_count": 21,
     "metadata": {},
     "output_type": "execute_result"
    },
    {
     "data": {
      "image/png": "[encoded data removed]",
      "text/plain": [
       "<Figure size 432x288 with 1 Axes>"
      ]
     },
     "metadata": {
      "needs_background": "light"
     },
     "output_type": "display_data"
    }
   ],
   "source": [
    "train_df.value_counts('label').plot(kind='bar')"
   ]
  },
  {
   "cell_type": "code",
   "execution_count": 22,
   "metadata": {},
   "outputs": [],
   "source": [
    "# # save to file\n",
    "# train_df.to_csv('../data/clean/train.csv', index=False)\n",
    "# test_df.to_csv('../data/clean/test.csv', index=False)"
   ]
  },
  {
   "attachments": {},
   "cell_type": "markdown",
   "metadata": {},
   "source": [
    "## Implement Star Space model"
   ]
  },
  {
   "cell_type": "code",
   "execution_count": 24,
   "metadata": {},
   "outputs": [],
   "source": [
    "word_counts = {}\n",
    "for text in train_df['text']:\n",
    "    for word in text.split():\n",
    "        word_counts[word] = word_counts.get(word, 0) + 1\n",
    "\n",
    "word_counts_df = pd.DataFrame.from_dict(word_counts, orient='index', columns=['count'])\n",
    "word_counts_df.sort_values('count', ascending=False, inplace=True)"
   ]
  },
  {
   "cell_type": "code",
   "execution_count": 25,
   "metadata": {},
   "outputs": [
    {
     "data": {
      "text/plain": [
       "1998"
      ]
     },
     "execution_count": 25,
     "metadata": {},
     "output_type": "execute_result"
    }
   ],
   "source": [
    "vocab = set(word_counts_df[word_counts_df['count'] >= 5].index)\n",
    "len(vocab)"
   ]
  },
  {
   "cell_type": "code",
   "execution_count": 26,
   "metadata": {},
   "outputs": [
    {
     "data": {
      "text/plain": [
       "1999"
      ]
     },
     "execution_count": 26,
     "metadata": {},
     "output_type": "execute_result"
    }
   ],
   "source": [
    "word2idx = {word: idx for idx, word in enumerate(vocab, 1)}\n",
    "word2idx['<unk>'] = 0\n",
    "label2idx = {'POS': 0, 'NEG': 1, 'NEU': 2}\n",
    "len(word2idx)"
   ]
  },
  {
   "cell_type": "code",
   "execution_count": 28,
   "metadata": {},
   "outputs": [
    {
     "data": {
      "image/png": "[encoded data removed]",
      "text/plain": [
       "<Figure size 1440x720 with 1 Axes>"
      ]
     },
     "metadata": {
      "needs_background": "light"
     },
     "output_type": "display_data"
    }
   ],
   "source": [
    "plt.figure(figsize=(20, 10))\n",
    "len_df = train_df['text'].apply(lambda x: len(x.split()))\n",
    "plt.title('Distribution of number of tokens in a input')\n",
    "len_df.value_counts().sort_index().plot(kind='bar')\n",
    "plt.show()"
   ]
  },
  {
   "cell_type": "code",
   "execution_count": 29,
   "metadata": {},
   "outputs": [],
   "source": [
    "max_len = train_df['text'].apply(lambda x: len(x.split())).max()"
   ]
  },
  {
   "cell_type": "code",
   "execution_count": 30,
   "metadata": {},
   "outputs": [],
   "source": [
    "class Dataset(Dataset):\n",
    "    def __init__(self, df_train, df_test, word2idx, label2idx, cur_set='train', max_len=max_len):\n",
    "        self.cur_set = cur_set\n",
    "        self.word2idx = word2idx\n",
    "        self.max_len = max_len\n",
    "        self.label2idx = label2idx\n",
    "\n",
    "        train, val = train_test_split(df_train, test_size=0.2, random_state=42)\n",
    "        self.lookup = {\n",
    "            'train': train.reset_index(drop=True).copy(),\n",
    "            'val': val.reset_index(drop=True).copy(),\n",
    "            'test': df_test.reset_index(drop=True).copy()\n",
    "        }\n",
    "        \n",
    "    def __len__(self):\n",
    "        return len(self.lookup[self.cur_set])\n",
    "\n",
    "    def __getitem__(self, idx):\n",
    "        text = self.lookup[self.cur_set]['text'][idx]\n",
    "        text = text[:self.max_len]\n",
    "        text_idx = [self.word2idx.get(word, self.word2idx['<unk>']) for word in text.split()]\n",
    "        text_idx = text_idx + [0] * (self.max_len - len(text_idx))\n",
    "\n",
    "        label = self.lookup[self.cur_set]['label'][idx]\n",
    "        \n",
    "        return torch.tensor(text_idx), torch.tensor([self.label2idx[label]])\n",
    "\n",
    "    def get_dl(self, batch_size=32, shuffle=True, drop_last=True, cur_set='train'):\n",
    "        self.cur_set = cur_set\n",
    "        return DataLoader(self, batch_size=batch_size, shuffle=shuffle, drop_last=drop_last)"
   ]
  },
  {
   "cell_type": "code",
   "execution_count": 31,
   "metadata": {},
   "outputs": [],
   "source": [
    "class MarginRankingLoss(nn.Module):\n",
    "    def __init__(self, margin=1, reduction=torch.mean):\n",
    "        super().__init__()\n",
    "        self.margin = torch.tensor(margin)\n",
    "        self.reduction = reduction\n",
    "        \n",
    "    def forward(self, pos_sim, neg_sim): # pos_sim: (batch_size, 1), neg_sim: (batch_size, n_y)\n",
    "        loss = torch.clamp(self.margin - pos_sim + neg_sim, min=0)\n",
    "        return self.reduction(loss)\n",
    "        \n",
    "class InnerProductSimilarity(nn.Module):\n",
    "    def __init__(self):\n",
    "        super().__init__()\n",
    "        \n",
    "    def forward(self, x, y): # x: (batch_size, 1, embedding_dim), y: (batch_size, n_y, embedding_dim)\n",
    "        return torch.bmm(x, y.transpose(1, 2)).squeeze(1) # shape = (batch_size, n_y)\n",
    "\n",
    "class StarSpaceClassifier(nn.Module):\n",
    "    def __init__(self, vocab_size, num_classes, embedding_dim=32, hidden_size=32, agg=torch.mean):\n",
    "        super().__init__()\n",
    "        self.word_embeddings = nn.Embedding(vocab_size, embedding_dim, padding_idx=0)\n",
    "        self.label_embeddings = nn.Embedding(num_classes, embedding_dim)\n",
    "        self.fc1 = nn.Sequential(                 # if use ==> worse performance\n",
    "        )\n",
    "        self.fc2 = nn.Sequential(\n",
    "        )\n",
    "        self.agg = agg\n",
    "        \n",
    "    def forward(self, x, y, label_set = set([0, 1, 2])):\n",
    "        x = self.word_embeddings(x)\n",
    "        x_repr = self.fc1(x)\n",
    "        x_repr = self.agg(x_repr, dim=1)\n",
    "        x_repr = x_repr.unsqueeze(1)\n",
    "\n",
    "        y_pos_embed = self.label_embeddings(y)\n",
    "        y_pos = self.fc2(y_pos_embed)\n",
    "        y_pos = self.agg(y_pos, dim=1)\n",
    "        y_pos = y_pos.unsqueeze(1)\n",
    "\n",
    "        y_neg_label = []\n",
    "        for i in range(y.shape[0]):\n",
    "            y_neg_label.append(list(label_set - set([y[i].item()])))\n",
    "        y_neg_label = torch.tensor(y_neg_label)\n",
    "        y_neg_embed = self.label_embeddings(y_neg_label)\n",
    "        y_neg = self.fc2(y_neg_embed)\n",
    "\n",
    "        return x_repr, y_pos, y_neg\n",
    "    \n",
    "    @torch.no_grad()\n",
    "    def predict(self, x):\n",
    "        x = self.word_embeddings(x)\n",
    "        x_repr = self.fc1(x)\n",
    "        x_repr = self.agg(x_repr, dim=1)\n",
    "        x_repr = x_repr.unsqueeze(1)\n",
    "\n",
    "        labels = torch.tensor(list(range(3)))\n",
    "        # take embedding of all labels\n",
    "        y_embed = self.label_embeddings(labels)\n",
    "        y = self.fc2(y_embed)\n",
    "        sims = torch.bmm(x_repr, y.repeat(x_repr.shape[0], 1, 1).transpose(1, 2)).squeeze(1)\n",
    "        _, pred = torch.max(sims, dim=1)\n",
    "        return pred"
   ]
  },
  {
   "cell_type": "code",
   "execution_count": 32,
   "metadata": {},
   "outputs": [],
   "source": [
    "dataset = Dataset(train_df, test_df, word2idx, label2idx)"
   ]
  },
  {
   "cell_type": "code",
   "execution_count": 33,
   "metadata": {},
   "outputs": [],
   "source": [
    "model = StarSpaceClassifier(len(word2idx), len(label2idx))\n",
    "loss = MarginRankingLoss()\n",
    "sim = InnerProductSimilarity()\n",
    "optimizer = torch.optim.Adam(model.parameters(), lr=1e-3)"
   ]
  },
  {
   "cell_type": "code",
   "execution_count": 34,
   "metadata": {},
   "outputs": [],
   "source": [
    "def train(model, dataset, loss, sim, optimizer, epochs=10):\n",
    "    for epoch in range(epochs):\n",
    "        losses, accs = [], []\n",
    "        model.train()\n",
    "        train_dl = dataset.get_dl(cur_set='train')\n",
    "        for batch in tqdm(train_dl):\n",
    "            x, y = batch\n",
    "            x_repr, y_pos, y_neg = model(x, y)\n",
    "            pos_sim = sim(x_repr, y_pos)\n",
    "            neg_sim = sim(x_repr, y_neg)\n",
    "            loss_val = loss(pos_sim, neg_sim)\n",
    "            optimizer.zero_grad()\n",
    "            loss_val.backward()\n",
    "            optimizer.step()\n",
    "            losses.append(loss_val.item())\n",
    "            y_pred = model.predict(x)\n",
    "            acc = (y_pred == y.squeeze(1)).sum().item() / y.shape[0]\n",
    "            accs.append(acc)\n",
    "\n",
    "        val_dl = dataset.get_dl(cur_set='val')\n",
    "        val_losses, val_accs = [], []\n",
    "        model.eval()\n",
    "        with torch.no_grad():\n",
    "            for batch in tqdm(val_dl):\n",
    "                x, y = batch\n",
    "                x_repr, y_pos, y_neg = model(x, y)\n",
    "                pos_sim = sim(x_repr, y_pos)\n",
    "                neg_sim = sim(x_repr, y_neg)\n",
    "                loss_val = loss(pos_sim, neg_sim)\n",
    "                val_losses.append(loss_val.item())\n",
    "                y_pred = model.predict(x)\n",
    "                acc = (y_pred == y.squeeze(1)).sum().item() / y.shape[0]\n",
    "                val_accs.append(acc)\n",
    "            \n",
    "        print(f'Epoch {epoch+1}/{epochs}, train loss: {np.mean(losses):.4f}, train acc: {np.mean(accs):.4f}, val loss: {np.mean(val_losses):.4f}, val acc: {np.mean(val_accs):.4f}')\n",
    "\n",
    "def test(model, dataset, loss, sim):\n",
    "    # evaluate on test set\n",
    "    test_dl = dataset.get_dl(cur_set='test')\n",
    "    test_losses, test_accs = [], []\n",
    "    model.eval()\n",
    "    y_trues, y_preds = [], []\n",
    "    with torch.no_grad():\n",
    "        for batch in tqdm(test_dl):\n",
    "            x, y = batch\n",
    "            x_repr, y_pos, y_neg = model(x, y)\n",
    "            pos_sim = sim(x_repr, y_pos)\n",
    "            neg_sim = sim(x_repr, y_neg)\n",
    "            loss_val = loss(pos_sim, neg_sim)\n",
    "            test_losses.append(loss_val.item())\n",
    "            y_pred = model.predict(x)\n",
    "            acc = (y_pred == y.squeeze(1)).sum().item() / y.shape[0]\n",
    "            test_accs.append(acc)\n",
    "            y_trues.extend(y.squeeze(1).tolist())\n",
    "            y_preds.extend(y_pred.tolist())\n",
    "\n",
    "    print(classification_report(y_trues, y_preds))\n",
    "    # plot confusion matrix\n",
    "    cm = confusion_matrix(y_trues, y_preds)\n",
    "    plt.figure(figsize=(10, 10))\n",
    "    sns.heatmap(cm, annot=True, fmt='d', cmap='Blues')\n",
    "    plt.xlabel('Predicted')\n",
    "    plt.ylabel('True')\n",
    "    plt.show()"
   ]
  },
  {
   "cell_type": "code",
   "execution_count": 38,
   "metadata": {},
   "outputs": [
    {
     "data": {
      "application/vnd.jupyter.widget-view+json": {
       "model_id": "7122869c8e3a45fba542c703f555eeb1",
       "version_major": 2,
       "version_minor": 0
      },
      "text/plain": [
       "  0%|          | 0/122 [00:00<?, ?it/s]"
      ]
     },
     "metadata": {},
     "output_type": "display_data"
    },
    {
     "data": {
      "application/vnd.jupyter.widget-view+json": {
       "model_id": "9cc0d673c4e44d12a5268df53b95a7b6",
       "version_major": 2,
       "version_minor": 0
      },
      "text/plain": [
       "  0%|          | 0/30 [00:00<?, ?it/s]"
      ]
     },
     "metadata": {},
     "output_type": "display_data"
    },
    {
     "name": "stdout",
     "output_type": "stream",
     "text": [
      "Epoch 1/10, train loss: 0.5563, train acc: 0.7303, val loss: 0.7023, val acc: 0.6052\n"
     ]
    },
    {
     "data": {
      "application/vnd.jupyter.widget-view+json": {
       "model_id": "97793b0253b94cd6829a97d8a5b562bb",
       "version_major": 2,
       "version_minor": 0
      },
      "text/plain": [
       "  0%|          | 0/122 [00:00<?, ?it/s]"
      ]
     },
     "metadata": {},
     "output_type": "display_data"
    },
    {
     "data": {
      "application/vnd.jupyter.widget-view+json": {
       "model_id": "3306fa01b8ce47288a87c0ed85ef53be",
       "version_major": 2,
       "version_minor": 0
      },
      "text/plain": [
       "  0%|          | 0/30 [00:00<?, ?it/s]"
      ]
     },
     "metadata": {},
     "output_type": "display_data"
    },
    {
     "name": "stdout",
     "output_type": "stream",
     "text": [
      "Epoch 2/10, train loss: 0.5483, train acc: 0.7326, val loss: 0.7008, val acc: 0.6021\n"
     ]
    },
    {
     "data": {
      "application/vnd.jupyter.widget-view+json": {
       "model_id": "c4dab9a468aa4dd8bcf89171ce7db228",
       "version_major": 2,
       "version_minor": 0
      },
      "text/plain": [
       "  0%|          | 0/122 [00:00<?, ?it/s]"
      ]
     },
     "metadata": {},
     "output_type": "display_data"
    },
    {
     "data": {
      "application/vnd.jupyter.widget-view+json": {
       "model_id": "e3f857d29557415ca2d7207e2069a6f5",
       "version_major": 2,
       "version_minor": 0
      },
      "text/plain": [
       "  0%|          | 0/30 [00:00<?, ?it/s]"
      ]
     },
     "metadata": {},
     "output_type": "display_data"
    },
    {
     "name": "stdout",
     "output_type": "stream",
     "text": [
      "Epoch 3/10, train loss: 0.5405, train acc: 0.7344, val loss: 0.6959, val acc: 0.6042\n"
     ]
    },
    {
     "data": {
      "application/vnd.jupyter.widget-view+json": {
       "model_id": "8cf0e968ad6b492fb7d1b97a5f11df58",
       "version_major": 2,
       "version_minor": 0
      },
      "text/plain": [
       "  0%|          | 0/122 [00:00<?, ?it/s]"
      ]
     },
     "metadata": {},
     "output_type": "display_data"
    },
    {
     "data": {
      "application/vnd.jupyter.widget-view+json": {
       "model_id": "213b11cb36b04a5a91789f9d8f5ccefd",
       "version_major": 2,
       "version_minor": 0
      },
      "text/plain": [
       "  0%|          | 0/30 [00:00<?, ?it/s]"
      ]
     },
     "metadata": {},
     "output_type": "display_data"
    },
    {
     "name": "stdout",
     "output_type": "stream",
     "text": [
      "Epoch 4/10, train loss: 0.5324, train acc: 0.7377, val loss: 0.6911, val acc: 0.6021\n"
     ]
    },
    {
     "data": {
      "application/vnd.jupyter.widget-view+json": {
       "model_id": "cb4cdf42f7d741bb93ef4f885ce8aa91",
       "version_major": 2,
       "version_minor": 0
      },
      "text/plain": [
       "  0%|          | 0/122 [00:00<?, ?it/s]"
      ]
     },
     "metadata": {},
     "output_type": "display_data"
    },
    {
     "data": {
      "application/vnd.jupyter.widget-view+json": {
       "model_id": "908a42dbf25b44f0b486b1595e0393a8",
       "version_major": 2,
       "version_minor": 0
      },
      "text/plain": [
       "  0%|          | 0/30 [00:00<?, ?it/s]"
      ]
     },
     "metadata": {},
     "output_type": "display_data"
    },
    {
     "name": "stdout",
     "output_type": "stream",
     "text": [
      "Epoch 5/10, train loss: 0.5246, train acc: 0.7428, val loss: 0.6905, val acc: 0.5969\n"
     ]
    },
    {
     "data": {
      "application/vnd.jupyter.widget-view+json": {
       "model_id": "52698aa9af074b7aa42ac9549860f8e5",
       "version_major": 2,
       "version_minor": 0
      },
      "text/plain": [
       "  0%|          | 0/122 [00:00<?, ?it/s]"
      ]
     },
     "metadata": {},
     "output_type": "display_data"
    },
    {
     "data": {
      "application/vnd.jupyter.widget-view+json": {
       "model_id": "bc1354bdc3014844bacdff2ce0d5ba52",
       "version_major": 2,
       "version_minor": 0
      },
      "text/plain": [
       "  0%|          | 0/30 [00:00<?, ?it/s]"
      ]
     },
     "metadata": {},
     "output_type": "display_data"
    },
    {
     "name": "stdout",
     "output_type": "stream",
     "text": [
      "Epoch 6/10, train loss: 0.5176, train acc: 0.7449, val loss: 0.6899, val acc: 0.5969\n"
     ]
    },
    {
     "data": {
      "application/vnd.jupyter.widget-view+json": {
       "model_id": "9d2ec6a760f741a885307e1b07b9a9e7",
       "version_major": 2,
       "version_minor": 0
      },
      "text/plain": [
       "  0%|          | 0/122 [00:00<?, ?it/s]"
      ]
     },
     "metadata": {},
     "output_type": "display_data"
    },
    {
     "data": {
      "application/vnd.jupyter.widget-view+json": {
       "model_id": "b8b5ebd35f164d9c877366fffeb086de",
       "version_major": 2,
       "version_minor": 0
      },
      "text/plain": [
       "  0%|          | 0/30 [00:00<?, ?it/s]"
      ]
     },
     "metadata": {},
     "output_type": "display_data"
    },
    {
     "name": "stdout",
     "output_type": "stream",
     "text": [
      "Epoch 7/10, train loss: 0.5114, train acc: 0.7454, val loss: 0.6836, val acc: 0.6010\n"
     ]
    },
    {
     "data": {
      "application/vnd.jupyter.widget-view+json": {
       "model_id": "4887e9c7eede40368b0f949c4d7a54cb",
       "version_major": 2,
       "version_minor": 0
      },
      "text/plain": [
       "  0%|          | 0/122 [00:00<?, ?it/s]"
      ]
     },
     "metadata": {},
     "output_type": "display_data"
    },
    {
     "data": {
      "application/vnd.jupyter.widget-view+json": {
       "model_id": "d0e703ef8fa24a82a229a7eaffda992e",
       "version_major": 2,
       "version_minor": 0
      },
      "text/plain": [
       "  0%|          | 0/30 [00:00<?, ?it/s]"
      ]
     },
     "metadata": {},
     "output_type": "display_data"
    },
    {
     "name": "stdout",
     "output_type": "stream",
     "text": [
      "Epoch 8/10, train loss: 0.5063, train acc: 0.7480, val loss: 0.6816, val acc: 0.5979\n"
     ]
    },
    {
     "data": {
      "application/vnd.jupyter.widget-view+json": {
       "model_id": "499bbd0c391b4723b1a87b211ea8c43f",
       "version_major": 2,
       "version_minor": 0
      },
      "text/plain": [
       "  0%|          | 0/122 [00:00<?, ?it/s]"
      ]
     },
     "metadata": {},
     "output_type": "display_data"
    },
    {
     "data": {
      "application/vnd.jupyter.widget-view+json": {
       "model_id": "8b86b516c16347dabf3ba8d62d7e7614",
       "version_major": 2,
       "version_minor": 0
      },
      "text/plain": [
       "  0%|          | 0/30 [00:00<?, ?it/s]"
      ]
     },
     "metadata": {},
     "output_type": "display_data"
    },
    {
     "name": "stdout",
     "output_type": "stream",
     "text": [
      "Epoch 9/10, train loss: 0.5000, train acc: 0.7492, val loss: 0.6789, val acc: 0.6031\n"
     ]
    },
    {
     "data": {
      "application/vnd.jupyter.widget-view+json": {
       "model_id": "7c3b88ef54ca4150b4a1a607571f2a24",
       "version_major": 2,
       "version_minor": 0
      },
      "text/plain": [
       "  0%|          | 0/122 [00:00<?, ?it/s]"
      ]
     },
     "metadata": {},
     "output_type": "display_data"
    },
    {
     "data": {
      "application/vnd.jupyter.widget-view+json": {
       "model_id": "bc8dd840fb5f4cb08a9dddc4512c5dde",
       "version_major": 2,
       "version_minor": 0
      },
      "text/plain": [
       "  0%|          | 0/30 [00:00<?, ?it/s]"
      ]
     },
     "metadata": {},
     "output_type": "display_data"
    },
    {
     "name": "stdout",
     "output_type": "stream",
     "text": [
      "Epoch 10/10, train loss: 0.4931, train acc: 0.7523, val loss: 0.6760, val acc: 0.6021\n"
     ]
    }
   ],
   "source": [
    "train(model, dataset, loss, sim, optimizer, epochs=10)"
   ]
  },
  {
   "cell_type": "code",
   "execution_count": 39,
   "metadata": {},
   "outputs": [
    {
     "data": {
      "application/vnd.jupyter.widget-view+json": {
       "model_id": "c1b7619fe58d4267bdf3d90bcc66cdd1",
       "version_major": 2,
       "version_minor": 0
      },
      "text/plain": [
       "  0%|          | 0/31 [00:00<?, ?it/s]"
      ]
     },
     "metadata": {},
     "output_type": "display_data"
    },
    {
     "name": "stdout",
     "output_type": "stream",
     "text": [
      "              precision    recall  f1-score   support\n",
      "\n",
      "           0       0.65      0.64      0.65       325\n",
      "           1       0.67      0.61      0.64       329\n",
      "           2       0.58      0.64      0.61       338\n",
      "\n",
      "    accuracy                           0.63       992\n",
      "   macro avg       0.63      0.63      0.63       992\n",
      "weighted avg       0.63      0.63      0.63       992\n",
      "\n"
     ]
    },
    {
     "data": {
      "image/png": "[encoded data removed]",
      "text/plain": [
       "<Figure size 720x720 with 2 Axes>"
      ]
     },
     "metadata": {
      "needs_background": "light"
     },
     "output_type": "display_data"
    }
   ],
   "source": [
    "test(model, dataset, loss, sim)"
   ]
  },
  {
   "cell_type": "code",
   "execution_count": 40,
   "metadata": {},
   "outputs": [],
   "source": [
    "# save model\n",
    "# torch.save(model.state_dict(), '../models/starspace.pt')"
   ]
  },
  {
   "cell_type": "code",
   "execution_count": null,
   "metadata": {},
   "outputs": [],
   "source": []
  },
  {
   "cell_type": "code",
   "execution_count": null,
   "metadata": {},
   "outputs": [],
   "source": []
  },
  {
   "cell_type": "code",
   "execution_count": null,
   "metadata": {},
   "outputs": [],
   "source": []
  },
  {
   "cell_type": "code",
   "execution_count": null,
   "metadata": {},
   "outputs": [],
   "source": []
  },
  {
   "cell_type": "code",
   "execution_count": null,
   "metadata": {},
   "outputs": [],
   "source": []
  },
  {
   "cell_type": "code",
   "execution_count": null,
   "metadata": {},
   "outputs": [
    {
     "data": {
      "text/plain": [
       "tensor(1.0768, grad_fn=<MeanBackward0>)"
      ]
     },
     "execution_count": 273,
     "metadata": {},
     "output_type": "execute_result"
    }
   ],
   "source": [
    "m = torch.bmm(a, b.transpose(1, 2)).squeeze(1)\n",
    "n = torch.bmm(a, c.transpose(1, 2)).squeeze(1)\n",
    "torch.mean(torch.clamp(1 - m + n, min=0))\n"
   ]
  },
  {
   "cell_type": "code",
   "execution_count": null,
   "metadata": {},
   "outputs": [],
   "source": [
    "sim = InnerProductSimilarity()\n",
    "pos_sim = sim(a, b)"
   ]
  },
  {
   "cell_type": "code",
   "execution_count": null,
   "metadata": {},
   "outputs": [
    {
     "data": {
      "text/plain": [
       "tensor(3.5000)"
      ]
     },
     "execution_count": 275,
     "metadata": {},
     "output_type": "execute_result"
    }
   ],
   "source": [
    "torch.mean(torch.tensor([\n",
    "    [1, 2, 3],\n",
    "    [4, 5, 6]\n",
    "], dtype=torch.float))"
   ]
  },
  {
   "cell_type": "code",
   "execution_count": null,
   "metadata": {},
   "outputs": [
    {
     "data": {
      "text/plain": [
       "torch.Size([32, 1])"
      ]
     },
     "execution_count": 276,
     "metadata": {},
     "output_type": "execute_result"
    }
   ],
   "source": [
    "pos_sim.shape"
   ]
  },
  {
   "cell_type": "code",
   "execution_count": null,
   "metadata": {},
   "outputs": [
    {
     "data": {
      "text/plain": [
       "tensor([[1, 2, 3],\n",
       "        [1, 2, 3]])"
      ]
     },
     "execution_count": 277,
     "metadata": {},
     "output_type": "execute_result"
    }
   ],
   "source": [
    "a = torch.tensor([1,2,3])\n",
    "a.repeat(2, 1)"
   ]
  },
  {
   "cell_type": "code",
   "execution_count": null,
   "metadata": {},
   "outputs": [],
   "source": []
  }
 ],
 "metadata": {
  "kernelspec": {
   "display_name": "Python 3",
   "language": "python",
   "name": "python3"
  },
  "language_info": {
   "codemirror_mode": {
    "name": "ipython",
    "version": 3
   },
   "file_extension": ".py",
   "mimetype": "text/x-python",
   "name": "python",
   "nbconvert_exporter": "python",
   "pygments_lexer": "ipython3",
   "version": "3.10.7"
  },
  "orig_nbformat": 4
 },
 "nbformat": 4,
 "nbformat_minor": 2
}
