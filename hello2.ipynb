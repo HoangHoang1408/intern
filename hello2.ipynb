{
 "cells": [
  {
   "cell_type": "code",
   "execution_count": 1,
   "metadata": {},
   "outputs": [],
   "source": [
    "import numpy as np\n",
    "import pandas as pd\n",
    "import matplotlib.pyplot as plt\n",
    "from matplotlib import rcParams\n",
    "import seaborn as sns\n",
    "import warnings\n",
    "\n",
    "sns.set()\n",
    "rcParams['figure.figsize'] = (20,10)\n",
    "pd.options.display.max_columns = None\n",
    "warnings.filterwarnings('ignore')"
   ]
  },
  {
   "cell_type": "code",
   "execution_count": 3,
   "metadata": {},
   "outputs": [],
   "source": [
    "import re\n",
    "import json"
   ]
  },
  {
   "cell_type": "code",
   "execution_count": 2,
   "metadata": {},
   "outputs": [],
   "source": [
    "def remove_vn_accent(word):\n",
    "    word = re.sub('[áàảãạăắằẳẵặâấầẩẫậ]', 'a', word)\n",
    "    word = re.sub('[éèẻẽẹêếềểễệ]', 'e', word)\n",
    "    word = re.sub('[óòỏõọôốồổỗộơớờởỡợ]', 'o', word)\n",
    "    word = re.sub('[íìỉĩị]', 'i', word)\n",
    "    word = re.sub('[úùủũụưứừửữự]', 'u', word)\n",
    "    word = re.sub('[ýỳỷỹỵ]', 'y', word)\n",
    "    word = re.sub('đ', 'd', word)\n",
    "    return word"
   ]
  },
  {
   "cell_type": "code",
   "execution_count": 4,
   "metadata": {},
   "outputs": [],
   "source": [
    "# create json syllables"
   ]
  },
  {
   "cell_type": "code",
   "execution_count": 6,
   "metadata": {},
   "outputs": [],
   "source": [
    "def create_json_syllables():\n",
    "    syllables = {}\n",
    "    with open('./data/syllables.txt', 'r') as f:\n",
    "        for word in f.readlines():\n",
    "            accent_removed_word = remove_vn_accent(word.strip())\n",
    "            if accent_removed_word not in syllables:\n",
    "                syllables[accent_removed_word] = [word.strip()]\n",
    "            else:\n",
    "                syllables[accent_removed_word].append(word.strip())\n",
    "    return syllables\n",
    "# syllables = create_json_syllables()\n",
    "# json.dump(syllables, open('./data/syllables.json', 'w'))"
   ]
  },
  {
   "cell_type": "code",
   "execution_count": 14,
   "metadata": {},
   "outputs": [],
   "source": [
    "syllables = json.load(open('./data/syllables.json', 'r')\n"
   ]
  },
  {
   "cell_type": "code",
   "execution_count": 41,
   "metadata": {},
   "outputs": [],
   "source": [
    "def prob_model():\n",
    "    return np.random.uniform(0, 1)"
   ]
  },
  {
   "cell_type": "code",
   "execution_count": 67,
   "metadata": {},
   "outputs": [],
   "source": [
    "def beam_search(syllables:dict[str,list[str]], sentence:list[str], beam_size:int):\n",
    "    result_sentences:list[tuple[list[str],float]] = [] # ex: [(['xin', 'chào'], 0.5), (['xin', 'chảo'], 0.3)]\n",
    "    for _ in range(beam_size):\n",
    "        result_sentences.append(([], 0))\n",
    "\n",
    "    for removed_accent_word in sentence:\n",
    "        prob_results = {}\n",
    "        for tp in result_sentences:\n",
    "            for word in syllables[removed_accent_word]:\n",
    "                temp_sentence = tp[0].copy()\n",
    "                temp_sentence.append(word)\n",
    "                prob_results[tuple(temp_sentence)] = tp[1] + np.log(prob_model())\n",
    "        sorted_prob_results = sorted(prob_results.items(), key=lambda x: x[1], reverse=True)\n",
    "        result_sentences = [(list(item[0]), item[1]) for item in sorted_prob_results[:beam_size]]\n",
    "    \n",
    "    return ' '.join(result_sentences[0][0])"
   ]
  },
  {
   "cell_type": "code",
   "execution_count": 79,
   "metadata": {},
   "outputs": [
    {
     "data": {
      "text/plain": [
       "'thạnh phợ há nôi'"
      ]
     },
     "execution_count": 79,
     "metadata": {},
     "output_type": "execute_result"
    }
   ],
   "source": [
    "beam_search(syllables, ['thanh', 'pho', 'ha', 'noi'], 5)"
   ]
  },
  {
   "cell_type": "code",
   "execution_count": 69,
   "metadata": {},
   "outputs": [],
   "source": [
    "# if len(result_sentences) == 0: # use unigram model\n",
    "#     for removed_accent_word in sentence:\n",
    "#         temp_probability:dict[str,float] = {}\n",
    "#         for word in syllables[removed_accent_word]:\n",
    "#             temp_probability[word] = unigram()\n",
    "#         top_k = sorted(temp_probability.items(), key=lambda x: x[1], reverse=True)[:beam_size]\n",
    "#         result_sentences.append([word] for word, _ in top_k)\n",
    "# elif len(result_sentences) == 1: # use bigram model\n",
    "#     for result_sentence in result_sentences:\n",
    "#         for removed_accent_word in sentence:\n",
    "#             temp_probability:dict[str,float] = {}\n",
    "#             for word in syllables[removed_accent_word]:\n",
    "#                 temp_probability[word] = bigram()\n",
    "#             top_k = sorted(temp_probability.items(), key=lambda x: x[1], reverse=True)[:beam_size]\n",
    "#             result_sentences.append([result_sentence + [word] for word, _ in top_k])\n",
    "# elif len(result_sentences) >= 2: # use trigram model"
   ]
  },
  {
   "cell_type": "code",
   "execution_count": 62,
   "metadata": {},
   "outputs": [
    {
     "data": {
      "text/plain": [
       "(-0.6931471805599453+0j)"
      ]
     },
     "execution_count": 62,
     "metadata": {},
     "output_type": "execute_result"
    }
   ],
   "source": [
    "log(0.5)"
   ]
  },
  {
   "cell_type": "code",
   "execution_count": null,
   "metadata": {},
   "outputs": [],
   "source": []
  }
 ],
 "metadata": {
  "kernelspec": {
   "display_name": "Python 3",
   "language": "python",
   "name": "python3"
  },
  "language_info": {
   "codemirror_mode": {
    "name": "ipython",
    "version": 3
   },
   "file_extension": ".py",
   "mimetype": "text/x-python",
   "name": "python",
   "nbconvert_exporter": "python",
   "pygments_lexer": "ipython3",
   "version": "3.10.7"
  },
  "orig_nbformat": 4
 },
 "nbformat": 4,
 "nbformat_minor": 2
}
